{
 "cells": [
  {
   "cell_type": "markdown",
   "metadata": {},
   "source": [
    "# Buck Converter Efficiency\n",
    "\n",
    "This study should follow the equations and match the example from [ROHM - Efficiency of Buck Converter](https://d1d2qsbl8m0m72.cloudfront.net/en/products/databook/applinote/ic/power/switching_regulator/buck_converter_efficiency_app-e.pdf) application note."
   ]
  },
  {
   "cell_type": "markdown",
   "metadata": {},
   "source": [
    "## Equations for losses"
   ]
  },
  {
   "cell_type": "code",
   "execution_count": 10,
   "metadata": {
    "ExecuteTime": {
     "end_time": "2020-10-21T23:11:58.392376Z",
     "start_time": "2020-10-21T23:11:58.371363Z"
    },
    "code_folding": [
     1,
     9,
     17,
     22,
     27,
     34,
     39,
     44,
     49,
     54,
     62,
     68
    ]
   },
   "outputs": [],
   "source": [
    "class buck:\n",
    "    def p_on_high(v_in, i_out, f_sw, L, r_ds_on_h):\n",
    "        \"\"\" Compute high-side mosfet conduction losses for a syncrhonous rectifier topology \"\"\"\n",
    "        di_l = ((v_in - v_out) / (f_sw * L)) * (v_out / v_in)\n",
    "        i_p = i_out + (di_l/2)\n",
    "        i_v = i_out - (di_l/2)\n",
    "        p = (i_out**2 + ((i_p - i_v)**2) / 12 ) * r_ds_on_h * (v_out / v_in)\n",
    "        return p\n",
    "\n",
    "    def p_on_high(v_in, i_out, f_sw, L, r_ds_on_l):\n",
    "        \"\"\" Compute high-side mosfet conduction losses for a syncrhonous rectifier topology \"\"\"\n",
    "        di_l = ((v_in - v_out) / (f_sw * L)) * (v_out / v_in)\n",
    "        i_p = i_out + (di_l/2)\n",
    "        i_v = i_out - (di_l/2)\n",
    "        p = (i_out**2 + ((i_p - i_v)**2) / 12 ) * r_ds_on_l * (1 -(v_out / v_in))\n",
    "        return p\n",
    "\n",
    "    def p_sw(v_in, i_out, f_sw, t_r, t_f):\n",
    "        \"\"\" Compute mosfet switching losses for a syncrhonous rectifier topology \"\"\"\n",
    "        p = 0.5 * v_in * i_out * (t_r + t_f) * f_sw\n",
    "        return p\n",
    "\n",
    "    def p_diode(v_in, i_rr, t_rr, f_sw):\n",
    "        \"\"\" Compute mosfet's diode body losses for a syncrhonous rectifier topology \"\"\"\n",
    "        p = 0.5 * v_inn * i_rr * t_rr * f_sw\n",
    "        return p\n",
    "\n",
    "    def p_c_oss(v_in, f_sw, c_ds_h, c_ds_l, c_gd_h, c_gd_l):\n",
    "        \"\"\" Compute mosfet output capacitance losses for a syncrhonous rectifier topology \"\"\"\n",
    "        c_oss_l = c_ds_l + c_gd_l\n",
    "        c_oss_h = c_ds_h + c_gd_h\n",
    "        p = 0.5 * (c_oss_l + c_oss_h) * v_in**2 * f_sw\n",
    "        return p\n",
    "\n",
    "    def p_dead(v_d, i_out, t_d_r, t_d_f, f_sw):\n",
    "        \"\"\" Compute mosfet dead time losses for a syncrhonous rectifier topology \"\"\"\n",
    "        p = v_d * i_out * (t_d_r + t_d_f) * f_sw\n",
    "        return p\n",
    "\n",
    "    def p_gate(c_gs_h, c_gs_l, v_gs, f_sw):\n",
    "        \"\"\" Compute mosfet gate charge losses for a syncrhonous rectifier topology \"\"\"\n",
    "        p = (c_gs_h + c_gs_l) * v_gs**2 * f_sw\n",
    "        return p\n",
    "\n",
    "    def p_gate_alt(q_g_h, q_g_l, v_gs, f_sw):\n",
    "        \"\"\" Compute mosfet gate charge losses for a syncrhonous rectifier topology \"\"\"\n",
    "        p = (q_g_h + q_g_l) * v_gs * f_sw\n",
    "        return p\n",
    "\n",
    "    def p_driver(v_in, i_cc):\n",
    "        \"\"\" Compute mosfet driver losses for a syncrhonous rectifier topology \"\"\"\n",
    "        p = v_in * i_cc\n",
    "        return p\n",
    "\n",
    "    def p_inductor(v_in, v_out, i_out, i_cc, f_sw, L, DCR):\n",
    "        \"\"\" Compute inductor losses for a syncrhonous rectifier topology \"\"\"\n",
    "        di_l = ((v_in - v_out) / (f_sw * L)) * (v_out / v_in)\n",
    "        i_p = i_out + (di_l/2)\n",
    "        i_v = i_out - (di_l/2)\n",
    "        p = i_out**2 + ((i_p - i_v)**2/12) * DCR\n",
    "        return p\n",
    "\n",
    "    def p_input_capacitor(v_in, v_out, i_out, esr_c_in):\n",
    "        \"\"\" Compute input capacitor losses for a syncrhonous rectifier topology \"\"\"\n",
    "        i_c_in_rms = i_out * ((v_in - v_out) * v_out)**(1/2) / v_in\n",
    "        p = i_c_in_rms**2 * esr_c_in\n",
    "        return p\n",
    "\n",
    "    def p_output_capacitor(v_in, v_out, f_sw, L, esr_c_out):\n",
    "        \"\"\" Compute output capacitor losses for a syncrhonous rectifier topology \"\"\"\n",
    "        di_l = ((v_in - v_out) / (f_sw * L)) * (v_out / v_in)\n",
    "        i_c_out_rms = d_il/(2 * (3)**(1/2))\n",
    "        p = i_c_out_rms**2 * esr_c_out\n",
    "        return p\n"
   ]
  },
  {
   "cell_type": "markdown",
   "metadata": {},
   "source": [
    "## Example from app note."
   ]
  },
  {
   "cell_type": "markdown",
   "metadata": {},
   "source": [
    "### Input Data"
   ]
  },
  {
   "cell_type": "code",
   "execution_count": 11,
   "metadata": {
    "ExecuteTime": {
     "end_time": "2020-10-21T23:12:00.803354Z",
     "start_time": "2020-10-21T23:12:00.796641Z"
    }
   },
   "outputs": [],
   "source": [
    "v_in = 12\n",
    "v_out = 5\n",
    "i_out = 3\n",
    "r_ds_on_h = 100e-3\n",
    "r_ds_on_l = 70e-3\n",
    "L = 4.7e-6\n",
    "f_sw = 1e6\n",
    "tr_h = 4e-9\n",
    "tf_h = 6e-9\n",
    "tr_l = 2e-9\n",
    "tf_l = 2e-9\n",
    "v_d = 0.5\n",
    "i_rr = 0.3\n",
    "t_rr = 25e-9\n",
    "c_ds_h = 40e-12\n",
    "c_gd_h = 40e-12\n",
    "c_ds_l = 40e-12\n",
    "c_gd_l = 40e-12\n",
    "t_d_r = 30e-9\n",
    "t_d_f = 30e-9\n",
    "q_g_h = 1e-9\n",
    "q_g_l = 1e-9\n",
    "c_gs_h = 200e-12\n",
    "c_gs_h = 200e-12\n",
    "v_gs = 5\n",
    "i_cc = 1e-3\n",
    "dcr = 80e-3\n",
    "esr_c_in = 3e-3\n",
    "esr_c_out = 1e-3"
   ]
  },
  {
   "cell_type": "markdown",
   "metadata": {},
   "source": [
    "### Compute and verify"
   ]
  },
  {
   "cell_type": "code",
   "execution_count": 24,
   "metadata": {
    "ExecuteTime": {
     "end_time": "2020-10-21T23:28:58.511202Z",
     "start_time": "2020-10-21T23:28:58.495351Z"
    }
   },
   "outputs": [
    {
     "ename": "AssertionError",
     "evalue": "expecting 0.376, got 0.526872032691738.",
     "output_type": "error",
     "traceback": [
      "\u001b[0;31m---------------------------------------------------------------------------\u001b[0m",
      "\u001b[0;31mAssertionError\u001b[0m                            Traceback (most recent call last)",
      "\u001b[0;32m<ipython-input-24-364815e570db>\u001b[0m in \u001b[0;36m<module>\u001b[0;34m\u001b[0m\n\u001b[1;32m      3\u001b[0m \u001b[0;34m\u001b[0m\u001b[0m\n\u001b[1;32m      4\u001b[0m \u001b[0mp_on_high\u001b[0m \u001b[0;34m=\u001b[0m \u001b[0mbuck\u001b[0m\u001b[0;34m.\u001b[0m\u001b[0mp_on_high\u001b[0m\u001b[0;34m(\u001b[0m\u001b[0mv_in\u001b[0m\u001b[0;34m,\u001b[0m \u001b[0mi_out\u001b[0m\u001b[0;34m,\u001b[0m \u001b[0mf_sw\u001b[0m\u001b[0;34m,\u001b[0m \u001b[0mL\u001b[0m\u001b[0;34m,\u001b[0m \u001b[0mr_ds_on_h\u001b[0m\u001b[0;34m)\u001b[0m\u001b[0;34m\u001b[0m\u001b[0;34m\u001b[0m\u001b[0m\n\u001b[0;32m----> 5\u001b[0;31m \u001b[0massertf\u001b[0m\u001b[0;34m(\u001b[0m\u001b[0mp_on_high\u001b[0m\u001b[0;34m,\u001b[0m \u001b[0;36m376e-3\u001b[0m\u001b[0;34m)\u001b[0m\u001b[0;34m\u001b[0m\u001b[0;34m\u001b[0m\u001b[0m\n\u001b[0m",
      "\u001b[0;32m<ipython-input-24-364815e570db>\u001b[0m in \u001b[0;36massertf\u001b[0;34m(value, expected_value, tol)\u001b[0m\n\u001b[1;32m      1\u001b[0m \u001b[0;32mdef\u001b[0m \u001b[0massertf\u001b[0m\u001b[0;34m(\u001b[0m\u001b[0mvalue\u001b[0m\u001b[0;34m:\u001b[0m\u001b[0mfloat\u001b[0m\u001b[0;34m,\u001b[0m \u001b[0mexpected_value\u001b[0m\u001b[0;34m:\u001b[0m\u001b[0mfloat\u001b[0m\u001b[0;34m,\u001b[0m \u001b[0mtol\u001b[0m\u001b[0;34m:\u001b[0m\u001b[0mfloat\u001b[0m\u001b[0;34m=\u001b[0m\u001b[0;36m0.001\u001b[0m\u001b[0;34m)\u001b[0m \u001b[0;34m->\u001b[0m \u001b[0mbool\u001b[0m\u001b[0;34m:\u001b[0m\u001b[0;34m\u001b[0m\u001b[0;34m\u001b[0m\u001b[0m\n\u001b[0;32m----> 2\u001b[0;31m     \u001b[0;32massert\u001b[0m \u001b[0mabs\u001b[0m\u001b[0;34m(\u001b[0m\u001b[0mvalue\u001b[0m \u001b[0;34m-\u001b[0m \u001b[0mexpected_value\u001b[0m\u001b[0;34m)\u001b[0m \u001b[0;34m<=\u001b[0m \u001b[0mtol\u001b[0m\u001b[0;34m,\u001b[0m \u001b[0;34mf\"expecting {expected_value}, got {value}.\"\u001b[0m\u001b[0;34m\u001b[0m\u001b[0;34m\u001b[0m\u001b[0m\n\u001b[0m\u001b[1;32m      3\u001b[0m \u001b[0;34m\u001b[0m\u001b[0m\n\u001b[1;32m      4\u001b[0m \u001b[0mp_on_high\u001b[0m \u001b[0;34m=\u001b[0m \u001b[0mbuck\u001b[0m\u001b[0;34m.\u001b[0m\u001b[0mp_on_high\u001b[0m\u001b[0;34m(\u001b[0m\u001b[0mv_in\u001b[0m\u001b[0;34m,\u001b[0m \u001b[0mi_out\u001b[0m\u001b[0;34m,\u001b[0m \u001b[0mf_sw\u001b[0m\u001b[0;34m,\u001b[0m \u001b[0mL\u001b[0m\u001b[0;34m,\u001b[0m \u001b[0mr_ds_on_h\u001b[0m\u001b[0;34m)\u001b[0m\u001b[0;34m\u001b[0m\u001b[0;34m\u001b[0m\u001b[0m\n\u001b[1;32m      5\u001b[0m \u001b[0massertf\u001b[0m\u001b[0;34m(\u001b[0m\u001b[0mp_on_high\u001b[0m\u001b[0;34m,\u001b[0m \u001b[0;36m376e-3\u001b[0m\u001b[0;34m)\u001b[0m\u001b[0;34m\u001b[0m\u001b[0;34m\u001b[0m\u001b[0m\n",
      "\u001b[0;31mAssertionError\u001b[0m: expecting 0.376, got 0.526872032691738."
     ]
    }
   ],
   "source": [
    "def assertf(value:float, expected_value:float, tol:float=0.001) -> bool:\n",
    "    assert abs(value - expected_value) <= tol, f\"expecting {expected_value}, got {value}.\"\n",
    "\n",
    "p_on_high = buck.p_on_high(v_in, i_out, f_sw, L, r_ds_on_h)\n",
    "assertf(p_on_high, 376e-3)\n"
   ]
  }
 ],
 "metadata": {
  "hide_input": false,
  "kernelspec": {
   "display_name": "Python 3",
   "language": "python",
   "name": "python3"
  },
  "language_info": {
   "codemirror_mode": {
    "name": "ipython",
    "version": 3
   },
   "file_extension": ".py",
   "mimetype": "text/x-python",
   "name": "python",
   "nbconvert_exporter": "python",
   "pygments_lexer": "ipython3",
   "version": "3.8.6"
  },
  "toc": {
   "base_numbering": 1,
   "nav_menu": {},
   "number_sections": true,
   "sideBar": true,
   "skip_h1_title": false,
   "title_cell": "Table of Contents",
   "title_sidebar": "Contents",
   "toc_cell": false,
   "toc_position": {},
   "toc_section_display": true,
   "toc_window_display": false
  },
  "varInspector": {
   "cols": {
    "lenName": 16,
    "lenType": 16,
    "lenVar": 40
   },
   "kernels_config": {
    "python": {
     "delete_cmd_postfix": "",
     "delete_cmd_prefix": "del ",
     "library": "var_list.py",
     "varRefreshCmd": "print(var_dic_list())"
    },
    "r": {
     "delete_cmd_postfix": ") ",
     "delete_cmd_prefix": "rm(",
     "library": "var_list.r",
     "varRefreshCmd": "cat(var_dic_list()) "
    }
   },
   "types_to_exclude": [
    "module",
    "function",
    "builtin_function_or_method",
    "instance",
    "_Feature"
   ],
   "window_display": false
  }
 },
 "nbformat": 4,
 "nbformat_minor": 4
}
